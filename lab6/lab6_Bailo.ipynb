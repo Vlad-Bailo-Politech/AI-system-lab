{
  "nbformat": 4,
  "nbformat_minor": 0,
  "metadata": {
    "colab": {
      "provenance": []
    },
    "kernelspec": {
      "name": "python3",
      "display_name": "Python 3"
    },
    "language_info": {
      "name": "python"
    }
  },
  "cells": [
    {
      "cell_type": "markdown",
      "source": [
        "Task 1"
      ],
      "metadata": {
        "id": "cW3hQLGPam8H"
      }
    },
    {
      "cell_type": "code",
      "execution_count": 1,
      "metadata": {
        "colab": {
          "base_uri": "https://localhost:8080/"
        },
        "id": "WgPr5Ax4ajOz",
        "outputId": "6a0e0150-778c-48be-90fd-adc3d3974d56"
      },
      "outputs": [
        {
          "output_type": "stream",
          "name": "stdout",
          "text": [
            "Frequency Table - Outlook:\n",
            " Play      No  Yes\n",
            "Outlook          \n",
            "Overcast   0    4\n",
            "Rain       2    3\n",
            "Sunny      3    2\n",
            "\n",
            "Frequency Table - Humidity:\n",
            " Play      No  Yes\n",
            "Humidity         \n",
            "High       4    3\n",
            "Normal     1    6\n",
            "\n",
            "Frequency Table - Wind:\n",
            " Play    No  Yes\n",
            "Wind           \n",
            "Strong   3    3\n",
            "Weak     2    6\n",
            "\n",
            "Ймовірність того, що гра відбудеться: 0.51\n",
            "Ймовірність того, що гра не відбудеться: 0.49\n",
            "Прогноз: Гра відбудеться\n"
          ]
        }
      ],
      "source": [
        "# Імпортуємо бібліотеки\n",
        "import pandas as pd\n",
        "\n",
        "# Дані\n",
        "data = {\n",
        "    \"Outlook\": [\"Sunny\", \"Sunny\", \"Overcast\", \"Rain\", \"Rain\", \"Rain\", \"Overcast\", \"Sunny\", \"Sunny\", \"Rain\", \"Sunny\", \"Overcast\", \"Overcast\", \"Rain\"],\n",
        "    \"Humidity\": [\"High\", \"High\", \"High\", \"High\", \"Normal\", \"Normal\", \"Normal\", \"High\", \"Normal\", \"Normal\", \"Normal\", \"High\", \"Normal\", \"High\"],\n",
        "    \"Wind\": [\"Weak\", \"Strong\", \"Weak\", \"Weak\", \"Weak\", \"Strong\", \"Strong\", \"Weak\", \"Weak\", \"Weak\", \"Strong\", \"Strong\", \"Weak\", \"Strong\"],\n",
        "    \"Play\": [\"No\", \"No\", \"Yes\", \"Yes\", \"Yes\", \"No\", \"Yes\", \"No\", \"Yes\", \"Yes\", \"Yes\", \"Yes\", \"Yes\", \"No\"]\n",
        "}\n",
        "\n",
        "# Перетворення даних в DataFrame\n",
        "df = pd.DataFrame(data)\n",
        "\n",
        "# Обчислюємо частоти (frequency tables)\n",
        "frequency_outlook = df.groupby([\"Outlook\", \"Play\"]).size().unstack(fill_value=0)\n",
        "frequency_humidity = df.groupby([\"Humidity\", \"Play\"]).size().unstack(fill_value=0)\n",
        "frequency_wind = df.groupby([\"Wind\", \"Play\"]).size().unstack(fill_value=0)\n",
        "\n",
        "# Виводимо частотні таблиці\n",
        "print(\"Frequency Table - Outlook:\\n\", frequency_outlook)\n",
        "print(\"\\nFrequency Table - Humidity:\\n\", frequency_humidity)\n",
        "print(\"\\nFrequency Table - Wind:\\n\", frequency_wind)\n",
        "\n",
        "# Розрахунок ймовірностей\n",
        "total_yes = df[\"Play\"].value_counts()[\"Yes\"]\n",
        "total_no = df[\"Play\"].value_counts()[\"No\"]\n",
        "total = len(df)\n",
        "\n",
        "P_yes = total_yes / total\n",
        "P_no = total_no / total\n",
        "\n",
        "# Функція для обчислення умовної ймовірності\n",
        "def conditional_probability(attribute, value, play_value):\n",
        "    count_value_play = len(df[(df[attribute] == value) & (df[\"Play\"] == play_value)])\n",
        "    count_play = len(df[df[\"Play\"] == play_value])\n",
        "    return count_value_play / count_play\n",
        "\n",
        "# Прогнозування для заданих умов\n",
        "outlook = \"Rain\"\n",
        "humidity = \"High\"\n",
        "wind = \"Weak\"\n",
        "\n",
        "# Ймовірності для \"Yes\"\n",
        "P_outlook_yes = conditional_probability(\"Outlook\", outlook, \"Yes\")\n",
        "P_humidity_yes = conditional_probability(\"Humidity\", humidity, \"Yes\")\n",
        "P_wind_yes = conditional_probability(\"Wind\", wind, \"Yes\")\n",
        "\n",
        "P_yes_final = P_outlook_yes * P_humidity_yes * P_wind_yes * P_yes\n",
        "\n",
        "# Ймовірності для \"No\"\n",
        "P_outlook_no = conditional_probability(\"Outlook\", outlook, \"No\")\n",
        "P_humidity_no = conditional_probability(\"Humidity\", humidity, \"No\")\n",
        "P_wind_no = conditional_probability(\"Wind\", wind, \"No\")\n",
        "\n",
        "P_no_final = P_outlook_no * P_humidity_no * P_wind_no * P_no\n",
        "\n",
        "# Нормалізація\n",
        "P_total = P_yes_final + P_no_final\n",
        "P_yes_normalized = P_yes_final / P_total\n",
        "P_no_normalized = P_no_final / P_total\n",
        "\n",
        "# Результат\n",
        "print(f\"\\nЙмовірність того, що гра відбудеться: {P_yes_normalized:.2f}\")\n",
        "print(f\"Ймовірність того, що гра не відбудеться: {P_no_normalized:.2f}\")\n",
        "\n",
        "if P_yes_normalized > P_no_normalized:\n",
        "    print(\"Прогноз: Гра відбудеться\")\n",
        "else:\n",
        "    print(\"Прогноз: Гра не відбудеться\")"
      ]
    },
    {
      "cell_type": "markdown",
      "source": [
        "Task 2"
      ],
      "metadata": {
        "id": "kTanx1CLf6V3"
      }
    },
    {
      "cell_type": "code",
      "source": [
        "import pandas as pd\n",
        "\n",
        "# Дані\n",
        "data = {\n",
        "    \"Outlook\": [\"Sunny\", \"Sunny\", \"Overcast\", \"Rain\", \"Rain\", \"Rain\", \"Overcast\", \"Sunny\", \"Sunny\", \"Rain\", \"Sunny\", \"Overcast\", \"Overcast\", \"Rain\"],\n",
        "    \"Humidity\": [\"High\", \"High\", \"High\", \"High\", \"Normal\", \"Normal\", \"Normal\", \"High\", \"Normal\", \"Normal\", \"Normal\", \"High\", \"Normal\", \"High\"],\n",
        "    \"Wind\": [\"Weak\", \"Strong\", \"Weak\", \"Weak\", \"Weak\", \"Strong\", \"Strong\", \"Weak\", \"Weak\", \"Weak\", \"Strong\", \"Strong\", \"Weak\", \"Strong\"],\n",
        "    \"Play\": [\"No\", \"No\", \"Yes\", \"Yes\", \"Yes\", \"No\", \"Yes\", \"No\", \"Yes\", \"Yes\", \"Yes\", \"Yes\", \"Yes\", \"No\"]\n",
        "}\n",
        "\n",
        "# Перетворення даних в DataFrame\n",
        "df = pd.DataFrame(data)\n",
        "\n",
        "# Розрахунок ймовірностей\n",
        "total_yes = df[\"Play\"].value_counts()[\"Yes\"]\n",
        "total_no = df[\"Play\"].value_counts()[\"No\"]\n",
        "total = len(df)\n",
        "\n",
        "P_yes = total_yes / total\n",
        "P_no = total_no / total\n",
        "\n",
        "# Функція для обчислення умовної ймовірності\n",
        "def conditional_probability(attribute, value, play_value):\n",
        "    count_value_play = len(df[(df[attribute] == value) & (df[\"Play\"] == play_value)])\n",
        "    count_play = len(df[df[\"Play\"] == play_value])\n",
        "    return count_value_play / count_play\n",
        "\n",
        "# Нові умови\n",
        "outlook = \"Overcast\"\n",
        "humidity = \"High\"\n",
        "wind = \"Strong\"\n",
        "\n",
        "# Ймовірності для \"Yes\"\n",
        "P_outlook_yes = conditional_probability(\"Outlook\", outlook, \"Yes\")\n",
        "P_humidity_yes = conditional_probability(\"Humidity\", humidity, \"Yes\")\n",
        "P_wind_yes = conditional_probability(\"Wind\", wind, \"Yes\")\n",
        "\n",
        "P_yes_final = P_outlook_yes * P_humidity_yes * P_wind_yes * P_yes\n",
        "\n",
        "# Ймовірності для \"No\"\n",
        "P_outlook_no = conditional_probability(\"Outlook\", outlook, \"No\")\n",
        "P_humidity_no = conditional_probability(\"Humidity\", humidity, \"No\")\n",
        "P_wind_no = conditional_probability(\"Wind\", wind, \"No\")\n",
        "\n",
        "P_no_final = P_outlook_no * P_humidity_no * P_wind_no * P_no\n",
        "\n",
        "# Нормалізація\n",
        "P_total = P_yes_final + P_no_final\n",
        "P_yes_normalized = P_yes_final / P_total\n",
        "P_no_normalized = P_no_final / P_total\n",
        "\n",
        "# Виведення результату\n",
        "print(f\"Ймовірність того, що гра відбудеться: {P_yes_normalized:.2f}\")\n",
        "print(f\"Ймовірність того, що гра не відбудеться: {P_no_normalized:.2f}\")\n",
        "\n",
        "if P_yes_normalized > P_no_normalized:\n",
        "    print(\"Прогноз: Гра відбудеться\")\n",
        "else:\n",
        "    print(\"Прогноз: Гра не відбудеться\")"
      ],
      "metadata": {
        "colab": {
          "base_uri": "https://localhost:8080/"
        },
        "id": "SirdhLRnf-Og",
        "outputId": "aae0520a-e3c6-43c8-c50c-fe4036f48f79"
      },
      "execution_count": 2,
      "outputs": [
        {
          "output_type": "stream",
          "name": "stdout",
          "text": [
            "Ймовірність того, що гра відбудеться: 1.00\n",
            "Ймовірність того, що гра не відбудеться: 0.00\n",
            "Прогноз: Гра відбудеться\n"
          ]
        }
      ]
    },
    {
      "cell_type": "markdown",
      "source": [
        "Task 3"
      ],
      "metadata": {
        "id": "rTZ85FX4gQLJ"
      }
    },
    {
      "cell_type": "code",
      "source": [
        "import pandas as pd\n",
        "from sklearn.model_selection import train_test_split\n",
        "from sklearn.linear_model import LinearRegression\n",
        "from sklearn.metrics import mean_squared_error, r2_score\n",
        "\n",
        "# Завантаження даних\n",
        "url = \"https://raw.githubusercontent.com/susanli2016/Machine-Learning-with-Python/master/data/renfe_small.csv\"\n",
        "data = pd.read_csv(url)\n",
        "\n",
        "# Огляд даних\n",
        "print(\"Перші 5 рядків даних:\")\n",
        "print(data.head(), \"\\n\")\n",
        "\n",
        "# Видалення пропущених значень\n",
        "data = data.dropna()\n",
        "\n",
        "# Вибір ознак та цільової змінної\n",
        "X = data[['train_type', 'origin', 'destination', 'train_class', 'fare']]\n",
        "y = data['price']\n",
        "\n",
        "# Перетворення категоріальних змінних у числові\n",
        "X = pd.get_dummies(X)\n",
        "\n",
        "# Розділення на тренувальний та тестовий набори (70% на тренування, 30% на тестування)\n",
        "X_train, X_test, y_train, y_test = train_test_split(X, y, test_size=0.3, random_state=42)\n",
        "\n",
        "# Створення та навчання моделі\n",
        "model = LinearRegression()\n",
        "model.fit(X_train, y_train)\n",
        "\n",
        "# Прогнозування на тестових даних\n",
        "y_pred = model.predict(X_test)\n",
        "\n",
        "# Оцінка точності\n",
        "mse = mean_squared_error(y_test, y_pred)\n",
        "r2 = r2_score(y_test, y_pred)\n",
        "\n",
        "# Виведення результатів оцінки\n",
        "print(f\"Модель навчена. Оцінка точності:\")\n",
        "print(f\"Середня квадратична похибка (MSE): {mse:.2f}\")\n",
        "print(f\"Коефіцієнт детермінації (R^2): {r2:.2f}\\n\")\n",
        "\n",
        "# Показ прогнозованих та реальних цін для перших 10 тестових зразків\n",
        "print(\"Приклади прогнозованих та реальних цін для перших 10 тестових зразків:\")\n",
        "for i, (real, pred) in enumerate(zip(y_test[:10], y_pred[:10]), start=1):\n",
        "    print(f\"№{i}: Реальна ціна: {real:.2f} EUR\\t| Прогнозована ціна: {pred:.2f} EUR\")\n",
        "\n",
        "# Функція для прогнозування ціни на основі нових даних\n",
        "def predict_price(train_type, origin, destination, train_class, fare):\n",
        "    # Формуємо DataFrame з новими даними\n",
        "    input_data = pd.DataFrame({\n",
        "        'train_type': [train_type],\n",
        "        'origin': [origin],\n",
        "        'destination': [destination],\n",
        "        'train_class': [train_class],\n",
        "        'fare': [fare]\n",
        "    })\n",
        "\n",
        "    # Застосовуємо one-hot encoding до нових даних\n",
        "    input_data = pd.get_dummies(input_data)\n",
        "\n",
        "    # Вирівнюємо нові дані з тренувальним набором\n",
        "    input_data = input_data.reindex(columns=X.columns, fill_value=0)\n",
        "\n",
        "    # Прогнозуємо ціну\n",
        "    return model.predict(input_data)[0]\n",
        "\n",
        "# Приклад прогнозу для нових даних\n",
        "new_prediction = predict_price('AV City', 'SEVILLA', 'MADRID', 'Preferente', 45)\n",
        "print(f\"\\nПрогнозована ціна для нових даних (AVE, Madrid, Barcelona, Preferente, Fare=45 EUR): {new_prediction:.2f} EUR\")"
      ],
      "metadata": {
        "colab": {
          "base_uri": "https://localhost:8080/"
        },
        "id": "daF6GVYsgRVI",
        "outputId": "5698d7a6-98d7-4e0c-8500-4f50bf0c1ff2"
      },
      "execution_count": 34,
      "outputs": [
        {
          "output_type": "stream",
          "name": "stdout",
          "text": [
            "Перші 5 рядків даних:\n",
            "           insert_date    origin destination           start_date  \\\n",
            "0  2019-04-22 08:00:25    MADRID     SEVILLA  2019-04-28 08:30:00   \n",
            "1  2019-04-22 10:03:24    MADRID    VALENCIA  2019-05-20 06:45:00   \n",
            "2  2019-04-25 19:19:46    MADRID     SEVILLA  2019-05-29 06:20:00   \n",
            "3  2019-04-24 06:21:57   SEVILLA      MADRID  2019-05-03 08:35:00   \n",
            "4  2019-04-19 21:13:55  VALENCIA      MADRID  2019-05-10 09:40:00   \n",
            "\n",
            "              end_date train_type  price         train_class      fare  \n",
            "0  2019-04-28 11:14:00      ALVIA    NaN             Turista  Flexible  \n",
            "1  2019-05-20 08:38:00        AVE  21.95             Turista     Promo  \n",
            "2  2019-05-29 09:16:00    AV City  38.55             Turista     Promo  \n",
            "3  2019-05-03 15:26:00      LD-MD  34.35  Turista con enlace   Promo +  \n",
            "4  2019-05-10 11:20:00        AVE  45.30             Turista     Promo   \n",
            "\n",
            "Модель навчена. Оцінка точності:\n",
            "Середня квадратична похибка (MSE): 117.37\n",
            "Коефіцієнт детермінації (R^2): 0.82\n",
            "\n",
            "Приклади прогнозованих та реальних цін для перших 10 тестових зразків:\n",
            "№1: Реальна ціна: 57.75 EUR\t| Прогнозована ціна: 41.60 EUR\n",
            "№2: Реальна ціна: 47.30 EUR\t| Прогнозована ціна: 49.67 EUR\n",
            "№3: Реальна ціна: 120.50 EUR\t| Прогнозована ціна: 88.36 EUR\n",
            "№4: Реальна ціна: 53.40 EUR\t| Прогнозована ціна: 49.67 EUR\n",
            "№5: Реальна ціна: 28.35 EUR\t| Прогнозована ціна: 28.74 EUR\n",
            "№6: Реальна ціна: 27.80 EUR\t| Прогнозована ціна: 41.60 EUR\n",
            "№7: Реальна ціна: 98.00 EUR\t| Прогнозована ціна: 102.51 EUR\n",
            "№8: Реальна ціна: 49.55 EUR\t| Прогнозована ціна: 78.78 EUR\n",
            "№9: Реальна ціна: 58.15 EUR\t| Прогнозована ціна: 78.78 EUR\n",
            "№10: Реальна ціна: 85.10 EUR\t| Прогнозована ціна: 78.78 EUR\n",
            "\n",
            "Прогнозована ціна для нових даних (AVE, Madrid, Barcelona, Preferente, Fare=45 EUR): 104.31 EUR\n"
          ]
        }
      ]
    }
  ]
}